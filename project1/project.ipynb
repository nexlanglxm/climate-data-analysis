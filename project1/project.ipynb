{
 "cells": [
  {
   "cell_type": "markdown",
   "metadata": {},
   "source": [
    "# Modeling Functional Fitness Data using Python\n",
    "---"
   ]
  },
  {
   "cell_type": "markdown",
   "metadata": {},
   "source": [
    "## Project Brief"
   ]
  },
  {
   "cell_type": "markdown",
   "metadata": {},
   "source": [
    "---\n",
    "> \"For this project you must create a data set by simulating a real-world phenomenon of your choosing. You may pick any phenomenon you wish – you might pick one that is of interest to you in your personal or professional life. Then, rather than collect data related to the phenomenon, you should model and synthesise such data using Python. We suggest you use the numpy.random package for this purpose. \n",
    "\n",
    "> Specifically, in this project you should: \n",
    "> 1. Choose a real-world phenomenon that can be measured and for which you could collect at least one-hundred data points across at least four different variables.\n",
    "> 2. Investigate the types of variables involved, their likely distributions, and their relationships with each other. \n",
    "> 3. Synthesise/simulate a data set as closely matching their properties as possible. \n",
    "> 4. Detail your research and implement the simulation in a Jupyter notebook – the data set itself can simply be displayed in an output cell within the notebook.\n",
    "\n",
    "> Note that this project is about simulation – you must synthesise a data set. Some students may already have some real-world data sets in their own files. It is okay to base your synthesised data set on these should you wish (please reference it if you do), but the main task in this project is to create a synthesised data set.\""
   ]
  },
  {
   "cell_type": "markdown",
   "metadata": {},
   "source": [
    "### Project Outline\n",
    "- [Introduction](#Introduction)\n",
    "- [Dataset overview](#Dataset-overview)\n",
    "- Research and variable investigation\n",
    "- Simulation design\n",
    "- implementation of simulation\n",
    "- analysis of dataset\n",
    "- interpretation of results\n",
    "- conclusion"
   ]
  },
  {
   "cell_type": "markdown",
   "metadata": {},
   "source": [
    "---\n",
    "## **Introduction**"
   ]
  },
  {
   "cell_type": "markdown",
   "metadata": {},
   "source": [
    "---\n",
    "\n",
    "This project delves into the realm of high-intensity fitness program performance, focusing on an exploration of various key variables. The variables under scrutiny encompass:\n",
    "\n",
    "1. **Time taken to complete the workout:** This represents a continuous variable, indicative of the duration participants spend engaging in the workout regimen.\n",
    "2. **Number of repetitions:** This discrete variable highlights the count of repetitions completed during the workout, showcasing an individual's performance.\n",
    "3. **Heart rate:** This continuous variable measures the physiological response, particularly the heart rate, during the workout session, offering insights into the intensity and exertion level.\n",
    "4. **Subjective difficulty level:** An ordinal variable expressing the perceived difficulty or intensity level experienced by participants during the workout.\n",
    "\n",
    "The analysis involves sourcing data from credible sources to establish feasible ranges for these variables. To factor in the time variable effectively, consideration will be given to specific workout modalities, such as CrossFit hero workouts, to reflect real-world scenarios. Anticipated heart rates during these workouts are projected to fall within the range of 120-200 beats per minute, aligning with the envisioned workout types.\n",
    "\n",
    "---"
   ]
  },
  {
   "cell_type": "markdown",
   "metadata": {},
   "source": [
    "### Objective Clarification"
   ]
  },
  {
   "cell_type": "markdown",
   "metadata": {},
   "source": [
    "The primary goal of this project is to simulate and analyze functional fitness performance metrics, encompassing time taken to complete workouts, repetitions performed, heart rate variations, and subjective difficulty levels. By simulating these variables within realistic ranges, the aim is to model plausible scenarios encountered during high-intensity fitness programs. This exploration seeks to understand the interrelationships among these metrics and their implications for assessing and enhancing individual performance within the functional fitness domain."
   ]
  },
  {
   "cell_type": "markdown",
   "metadata": {},
   "source": [
    "### Relevance and Importance"
   ]
  },
  {
   "cell_type": "markdown",
   "metadata": {},
   "source": [
    "Understanding these variables holds significant implications for fitness practitioners, trainers, and enthusiasts. Accurately modeling workout performance metrics can aid in designing tailored training programs, optimizing performance assessments, and gauging an individual's response to high-intensity workouts. This knowledge is vital for creating safer and more effective workout regimes, preventing overexertion or injury, and maximizing the benefits of functional fitness routines for participants across various fitness levels."
   ]
  },
  {
   "cell_type": "markdown",
   "metadata": {},
   "source": [
    "### Scope and Limitations"
   ]
  },
  {
   "cell_type": "markdown",
   "metadata": {},
   "source": [
    "The scope of this study involves the analysis and simulation of workout performance metrics based on available data and realistic assumptions. The focus will primarily be on high-intensity workout modalities, especially considering CrossFit hero workouts as a potential representation. However, this analysis may not encompass the entire spectrum of workout variations or demographic diversities. Additionally, while efforts will be made to simulate realistic scenarios, inherent limitations within the available data and modeling assumptions might impose constraints on the accuracy and generalizability of the results."
   ]
  },
  {
   "cell_type": "markdown",
   "metadata": {},
   "source": [
    "---\n",
    "## **Dataset overview**"
   ]
  },
  {
   "cell_type": "markdown",
   "metadata": {},
   "source": [
    "---\n",
    "### Description of Variables:"
   ]
  },
  {
   "cell_type": "markdown",
   "metadata": {},
   "source": [
    "- Time taken to complete workout:\n",
    "This continuous variable represents the duration participants spent engaging in the workout regiment. Potential sources may provide time ranges for various workout types, aiding in the simulation process.\n",
    "- Number of repetitions:\n",
    "A discrete variable indicating the count of repetitions completed during workouts. This variable's range and distribution could be determined based on workout types and difficulty levels.\n",
    "- Heart rate:\n",
    "A continuous variable measuring participants' physiological response during workouts. Potential heart rate ranges specific to different workout intensities and modalities can inform the simulation.\n",
    "- Subjective difficulty level:\n",
    "An ordinal variable expressing perceived difficulty levels during workouts. This variable might be sourced from self-reported assessmentsor standardized difficulty ratings for different workout routines.\n",
    "\n"
   ]
  },
  {
   "cell_type": "markdown",
   "metadata": {},
   "source": [
    "### Significance of Variables in Functional Fitness:"
   ]
  },
  {
   "cell_type": "markdown",
   "metadata": {},
   "source": [
    "- Time taken:\n",
    "    - Performance Assessment: The duration one spends completing a workout is a fundamental metric in evaluating fitness performance. It reflects endurance, efficiency, and stamina([cite]).\n",
    "    - Training optimization: understanding time variations across different workout types helps to tailor training programs for individuals, optimizing workout durations to align with specific goals.\n",
    "\n",
    "---\n",
    "- Number of repetitions:\n",
    "    - Intensity and Progression: Rep count signifies the intensity of a workout and an individual's ability to sustain effort. It reflects progress in strength, endurance, and skill improvement ([cite])\n",
    "    - Performance Tracking: Tracking reps assists in gauging an individual's capability to maintain consistency levels throughout the workout.\n",
    "---\n",
    "- Heart Rate:\n",
    "    - Intensity Measurement: Heart rate indicates the physiological response to exercise, directly correlating with workout intensity. Monitoring heart rate provides insights into the exertion levels and the metabolic demand during workouts.\n",
    "    - Safety & Training Zones: Understanding heart rate ranges helps define safe and effective training zones, enabling trainers to tailor workouts based on desired intensity levels and physiological adaptations.\n",
    "---\n",
    "- Subjective Difficulty Level:\n",
    "    - Perceived Exertion: reflect an individual's perception of the workout's intensity, offering qualitative insights alongside quantitative metrics.[cite] \n",
    "    - Adaptation and personalization: understanding this assists in adjusting workouts to match individual capabilities, enhancing adherance amd motivation while preventing overexertion and underutilization, both psychological and physiological."
   ]
  },
  {
   "cell_type": "markdown",
   "metadata": {},
   "source": [
    "### Sources and Ranges"
   ]
  },
  {
   "cell_type": "markdown",
   "metadata": {},
   "source": [
    "Time Taken to Complete Workout:\n",
    "- **Sources:** Obtain time duration ranges from reputable fitness resources, workout program guidelines, fitness tracking apps, or databases that document workout durations for various exercise modalities.\n",
    "- **Ranges:** Example ranges could be: for HIIT workouts, 15-30 minutes; for strength training, 45-75 minutes; for endurance workouts, 60-120 minutes. These ranges may vary based on workout types and intensities.\n",
    "\n",
    "Number of Repetitions:\n",
    "- **Sources:** Extract repetition counts from workout plans, exercise guidelines, fitness forums, or studies focusing on specific exercises or workout routines.\n",
    "- **Ranges:** Example ranges might include: for bodyweight exercises, 8-20 repetitions; for weightlifting, 5-12 repetitions; for endurance training, 15-30 repetitions. The actual range will depend on the exercise and its intensity.\n",
    "\n",
    "Heart Rate:\n",
    "- **Sources:** Heart rate data can be sourced from fitness trackers, studies monitoring heart rates during workouts, or fitness guidelines indicating target heart rate zones.\n",
    "- **Ranges:** Potential heart rate ranges could be: for moderate workouts, 120-150 bpm; for high-intensity exercises, 160-180 bpm. These ranges may vary based on individual fitness levels and age.\n",
    "\n",
    "Subjective Difficulty Level:\n",
    "- **Sources:** Self-reported difficulty ratings from fitness enthusiasts, standardized difficulty scales used in workout programs, or surveys assessing perceived exertion levels.\n",
    "- **Ranges:** Ordinal scales could include: low difficulty (1-3), moderate difficulty (4-6), high difficulty (7-10), reflecting varying levels of perceived exertion during workouts."
   ]
  },
  {
   "cell_type": "markdown",
   "metadata": {},
   "source": [
    "\n"
   ]
  },
  {
   "cell_type": "markdown",
   "metadata": {},
   "source": [
    "## Research and variable investigation"
   ]
  },
  {
   "cell_type": "markdown",
   "metadata": {},
   "source": []
  },
  {
   "cell_type": "markdown",
   "metadata": {},
   "source": [
    "## Simulation Steps & Design"
   ]
  },
  {
   "cell_type": "markdown",
   "metadata": {},
   "source": [
    "here we come across the first actual code; import libraries and get to the fleshing out of the actual work"
   ]
  },
  {
   "cell_type": "markdown",
   "metadata": {},
   "source": [
    "\n",
    "1. Generate synthetic data for each variable using the appropriate numpy.random distributions\n",
    "2. Ensure that relationships between variables are reflected in the simulated data.\n",
    "3. Detail these in the project.ipynb Jupyter Notebook\n",
    "4. Visualise the synthetic data and the realtionshops using appropriate charts and plots\n"
   ]
  },
  {
   "cell_type": "markdown",
   "metadata": {},
   "source": [
    "Likely distributions\n",
    "- Time taken to complete workout might follow a normal distribution\n",
    "- The number of repetitions..poisson distribution?\n",
    "- Heart rate.. normal distribution\n",
    "- Difficulty level should be represented as categorical data"
   ]
  },
  {
   "cell_type": "markdown",
   "metadata": {},
   "source": [
    "## Implementation of simulation"
   ]
  },
  {
   "cell_type": "code",
   "execution_count": null,
   "metadata": {},
   "outputs": [],
   "source": []
  },
  {
   "cell_type": "markdown",
   "metadata": {},
   "source": []
  },
  {
   "cell_type": "markdown",
   "metadata": {},
   "source": [
    "## Analysis of Dataset"
   ]
  },
  {
   "cell_type": "markdown",
   "metadata": {},
   "source": []
  },
  {
   "cell_type": "markdown",
   "metadata": {},
   "source": [
    "## Interpretation of Results"
   ]
  },
  {
   "cell_type": "markdown",
   "metadata": {},
   "source": []
  },
  {
   "cell_type": "markdown",
   "metadata": {},
   "source": [
    "\n",
    "- Time taken and the number of repetitions completed should be negatively correlated, as time decreases, repetitions should increase.\n",
    "- Heart rate might have a positive correlation with number of repetitions completed, high intensity workouts can lead to higher heart rates.\n",
    "- Difficulty level vs time taken & heart rate; harder workouts may lead to longer times and higher heart rates.\n"
   ]
  },
  {
   "cell_type": "markdown",
   "metadata": {},
   "source": [
    "## Conclusions"
   ]
  },
  {
   "cell_type": "markdown",
   "metadata": {},
   "source": []
  },
  {
   "cell_type": "markdown",
   "metadata": {
    "vscode": {
     "languageId": "plaintext"
    }
   },
   "source": [
    "## References:\n",
    "\n",
    "https://www.ncbi.nlm.nih.gov/pmc/articles/PMC7039471/"
   ]
  },
  {
   "cell_type": "markdown",
   "metadata": {},
   "source": [
    "---\n",
    "# End"
   ]
  }
 ],
 "metadata": {
  "kernelspec": {
   "display_name": "Python 3",
   "language": "python",
   "name": "python3"
  },
  "language_info": {
   "codemirror_mode": {
    "name": "ipython",
    "version": 3
   },
   "file_extension": ".py",
   "mimetype": "text/x-python",
   "name": "python",
   "nbconvert_exporter": "python",
   "pygments_lexer": "ipython3",
   "version": "3.11.5"
  }
 },
 "nbformat": 4,
 "nbformat_minor": 2
}
