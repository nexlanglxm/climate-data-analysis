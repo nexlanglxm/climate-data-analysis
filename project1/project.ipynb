{
 "cells": [
  {
   "cell_type": "markdown",
   "metadata": {},
   "source": [
    "# Modeling Functional Fitness Data using Python\n",
    "---"
   ]
  },
  {
   "cell_type": "markdown",
   "metadata": {},
   "source": [
    "## Project Brief"
   ]
  },
  {
   "cell_type": "markdown",
   "metadata": {},
   "source": [
    "---\n",
    "> For this project you must create a data set by simulating a real-world phenomenon of your choosing. You may pick any phenomenon you wish – you might pick one that is of interest to you in your personal or professional life. Then, rather than collect data related to the phenomenon, you should model and synthesise such data using Python. We suggest you use the numpy.random package for this purpose.\n",
    "\n",
    "Specifically, in this project you should: \n",
    "1. Choose a real-world phenomenon that can be measured and for which you could collect at least one-hundred data points across at least four different variables.\n",
    "2. Investigate the types of variables involved, their likely distributions, and their relationships with each other. \n",
    "3. Synthesise/simulate a data set as closely matching their properties as possible. \n",
    "4. Detail your research and implement the simulation in a Jupyter notebook – the data set itself can simply be displayed in an output cell within the notebook.\n",
    "\n",
    "> Note that this project is about simulation – you must synthesise a data set. Some students may already have some real-world data sets in their own files. It is okay to base your synthesised data set on these should you wish (please reference it if you do), but the main task in this project is to create a synthesised data set."
   ]
  },
  {
   "cell_type": "markdown",
   "metadata": {},
   "source": [
    "## Project Outline\n",
    "- [Introduction](#Introduction)\n",
    "- [Dataset overview](#Dataset-overview)\n",
    "- [Research and variable investigation](#Research-and-variable-investigation)\n",
    "- Simulation design\n",
    "- implementation of simulation\n",
    "- analysis of dataset\n",
    "- interpretation of results\n",
    "- conclusion"
   ]
  },
  {
   "cell_type": "markdown",
   "metadata": {},
   "source": [
    "## Introduction"
   ]
  },
  {
   "cell_type": "markdown",
   "metadata": {},
   "source": [
    "---\n",
    "\n",
    "This project delves into the realm of high-intensity fitness program performance, focusing on an exploration of various key variables. The variables under scrutiny encompass:\n",
    "\n",
    "1. **Time taken to complete the workout:** This represents a continuous variable, indicative of the duration participants spend engaging in the workout regimen.\n",
    "2. **Number of repetitions:** This discrete variable highlights the count of repetitions completed during the workout, showcasing an individual's performance.\n",
    "3. **Heart rate:** This continuous variable measures the physiological response, particularly the heart rate, during the workout session, offering insights into the intensity and exertion level.\n",
    "4. **Subjective difficulty level:** An ordinal variable expressing the perceived difficulty or intensity level experienced by participants during the workout.\n",
    "\n",
    "The analysis involves sourcing data from credible sources to establish feasible ranges for these variables. To factor in the time variable effectively, consideration will be given to specific workout modalities, such as CrossFit hero workouts, to reflect real-world scenarios. Anticipated heart rates during these workouts are projected to fall within the range of 120-200 beats per minute, aligning with the envisioned workout types.\n",
    "\n",
    "---"
   ]
  },
  {
   "cell_type": "markdown",
   "metadata": {},
   "source": [
    "***limitations and scope should be added here: considering outliers such as but not limited to: heart conditions; mental positivity?? background etc ***"
   ]
  },
  {
   "cell_type": "markdown",
   "metadata": {},
   "source": [
    "## Dataset overview"
   ]
  },
  {
   "cell_type": "markdown",
   "metadata": {},
   "source": [
    "---\n",
    "Description of Variables:\n",
    "- Time taken to complete workout:\n",
    "This continuous variable represents the duration participants spent engaging in the workout regiment. Potential sources may provide time ranges for various workout types, aiding in the simulation process.\n",
    "- Number of repetitions:\n",
    "A discrete variable indicating the count of repetitions completed during workouts. This variable's range and distribution could be determined based on workout types and difficulty levels.\n",
    "- Heart rate:\n",
    "A continuous variable measuring participants' physiological response during workouts. Potential heart rate ranges specific to different workout intensities and modalities can inform the simulation.\n",
    "- Subjective difficulty level:\n",
    "An ordinal variable expressing perceived difficulty levels during workouts. This variable might be sourced from self-reported assessmentsor standardized difficulty ratings for different workout routines.\n",
    "\n",
    "Significance of Variables in Functional Fitness:\n",
    "relevance of each variable\n",
    "how they contribute to assessing and optimizing HIWP"
   ]
  },
  {
   "cell_type": "markdown",
   "metadata": {},
   "source": [
    "## Research and variable investigation"
   ]
  },
  {
   "cell_type": "markdown",
   "metadata": {},
   "source": []
  },
  {
   "cell_type": "markdown",
   "metadata": {},
   "source": [
    "## Simulation Steps & Design"
   ]
  },
  {
   "cell_type": "markdown",
   "metadata": {},
   "source": [
    "here we come across the first actual code; import libraries and get to the fleshing out of the actual work"
   ]
  },
  {
   "cell_type": "code",
   "execution_count": null,
   "metadata": {},
   "outputs": [],
   "source": []
  },
  {
   "cell_type": "markdown",
   "metadata": {},
   "source": [
    "## Implementation of simulation"
   ]
  },
  {
   "cell_type": "code",
   "execution_count": null,
   "metadata": {},
   "outputs": [],
   "source": []
  },
  {
   "cell_type": "markdown",
   "metadata": {},
   "source": []
  },
  {
   "cell_type": "markdown",
   "metadata": {},
   "source": [
    "## Analysis of Dataset"
   ]
  },
  {
   "cell_type": "markdown",
   "metadata": {},
   "source": []
  },
  {
   "cell_type": "markdown",
   "metadata": {},
   "source": [
    "## Interpretation of Results"
   ]
  },
  {
   "cell_type": "markdown",
   "metadata": {},
   "source": []
  },
  {
   "cell_type": "markdown",
   "metadata": {},
   "source": [
    "## Conclusions"
   ]
  },
  {
   "cell_type": "markdown",
   "metadata": {},
   "source": []
  },
  {
   "cell_type": "markdown",
   "metadata": {
    "vscode": {
     "languageId": "plaintext"
    }
   },
   "source": [
    "## References:\n",
    "\n",
    "https://www.ncbi.nlm.nih.gov/pmc/articles/PMC7039471/"
   ]
  },
  {
   "cell_type": "markdown",
   "metadata": {},
   "source": [
    "---\n",
    "# End"
   ]
  }
 ],
 "metadata": {
  "kernelspec": {
   "display_name": "Python 3",
   "language": "python",
   "name": "python3"
  },
  "language_info": {
   "codemirror_mode": {
    "name": "ipython",
    "version": 3
   },
   "file_extension": ".py",
   "mimetype": "text/x-python",
   "name": "python",
   "nbconvert_exporter": "python",
   "pygments_lexer": "ipython3",
   "version": "3.11.5"
  }
 },
 "nbformat": 4,
 "nbformat_minor": 2
}
