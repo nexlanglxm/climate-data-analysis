{
 "cells": [
  {
   "cell_type": "markdown",
   "metadata": {},
   "source": [
    "---\n",
    "# Modeling Functional Fitness Data using Python\n",
    "---"
   ]
  },
  {
   "cell_type": "markdown",
   "metadata": {},
   "source": [
    "***imports***"
   ]
  },
  {
   "cell_type": "code",
   "execution_count": null,
   "metadata": {},
   "outputs": [],
   "source": [
    "import numpy as np\n",
    "import seaborn as sns\n",
    "import pandas as pd\n",
    "import matplotlib.pyplot as plt"
   ]
  },
  {
   "cell_type": "markdown",
   "metadata": {},
   "source": [
    "## Project Brief"
   ]
  },
  {
   "cell_type": "markdown",
   "metadata": {},
   "source": [
    "---\n",
    "> \"For this project you must create a data set by simulating a real-world phenomenon of your choosing. You may pick any phenomenon you wish – you might pick one that is of interest to you in your personal or professional life. Then, rather than collect data related to the phenomenon, you should model and synthesise such data using Python. We suggest you use the numpy.random package for this purpose. \n",
    "\n",
    "> Specifically, in this project you should: \n",
    "> 1. Choose a real-world phenomenon that can be measured and for which you could collect at least one-hundred data points across at least four different variables.\n",
    "> 2. Investigate the types of variables involved, their likely distributions, and their relationships with each other. \n",
    "> 3. Synthesise/simulate a data set as closely matching their properties as possible. \n",
    "> 4. Detail your research and implement the simulation in a Jupyter notebook – the data set itself can simply be displayed in an output cell within the notebook.\n",
    "\n",
    "> Note that this project is about simulation – you must synthesise a data set. Some students may already have some real-world data sets in their own files. It is okay to base your synthesised data set on these should you wish (please reference it if you do), but the main task in this project is to create a synthesised data set.\""
   ]
  },
  {
   "cell_type": "markdown",
   "metadata": {},
   "source": [
    "### Project Outline\n",
    "- Introduction\n",
    "- Dataset Overview\n",
    "- Simulation Design\n",
    "- Implementation of Simulation\n",
    "- Analysis and Insights\n",
    "- Conclusion"
   ]
  },
  {
   "cell_type": "markdown",
   "metadata": {},
   "source": [
    "---\n",
    "## **Introduction**"
   ]
  },
  {
   "cell_type": "markdown",
   "metadata": {},
   "source": [
    "---\n",
    "\n",
    "This project delves into the realm of high-intensity fitness program performance, focusing on an exploration of various key variables. The variables under scrutiny encompass:\n",
    "\n",
    "1. **Blood lactate concentration** \n",
    "2. **Heart rate** \n",
    "3. **Subjective difficulty level** \n",
    "4. **Caloric expenditure** \n",
    "\n",
    "---"
   ]
  },
  {
   "cell_type": "markdown",
   "metadata": {},
   "source": [
    "### Objective Clarification"
   ]
  },
  {
   "cell_type": "markdown",
   "metadata": {},
   "source": [
    "The primary goal of this project is to simulate and analyse functional fitness performance metrics, encompassing blood lactate concentration, heart rate variations, subjective difficulty levels, and caloric expenditure. By simulating these variables within realistic ranges, the aim is to model plausible scenarios encountered during high-intensity fitness programs. This exploration seeks to understand the interrelationships among these metrics and their implications for assessing and enhancing individual performance within the functional fitness domain."
   ]
  },
  {
   "cell_type": "markdown",
   "metadata": {},
   "source": [
    "### Relevance and Importance"
   ]
  },
  {
   "cell_type": "markdown",
   "metadata": {},
   "source": [
    "Understanding these variables holds significant implications for fitness practitioners, trainers, and enthusiasts. Accurately modeling workout performance metrics can aid in designing tailored training programs, optimizing performance assessments, and gauging an individual's response to high-intensity workouts. This knowledge is vital for creating safer and more effective workout regimes, preventing overexertion or injury, and maximizing the benefits of functional fitness routines for participants across various fitness levels."
   ]
  },
  {
   "cell_type": "markdown",
   "metadata": {},
   "source": [
    "### Scope and Limitations"
   ]
  },
  {
   "cell_type": "markdown",
   "metadata": {},
   "source": [
    "The scope of this study involves the analysis and simulation of workout performance metrics based on available data and realistic assumptions. The focus will primarily be on high-intensity workout modalities. However, this analysis may not encompass the entire spectrum of workout variations or demographic diversities. Additionally, while efforts will be made to simulate realistic scenarios, inherent limitations within the available data, modeling assumptions, and time constraints might impose constraints on the accuracy and generalizability of the results. The data will be generate on the basis of average males, 30 years old, of mass 70kg, with no known underlying conditions."
   ]
  },
  {
   "cell_type": "markdown",
   "metadata": {},
   "source": [
    "---\n",
    "## **Dataset overview**\n",
    "---"
   ]
  },
  {
   "cell_type": "markdown",
   "metadata": {},
   "source": [
    "This section highlights the variables, their significances, and lists likely sources and ranges."
   ]
  },
  {
   "cell_type": "markdown",
   "metadata": {},
   "source": [
    "***Blood lactate concentration:***\n",
    "- **Description:** \n",
    "    - A continuous variable that measures the amount of lactate present in the blood during a high-intensity workout. \n",
    "- **Significance:** \n",
    "    - Indicates workout intensity; higher concentrations suggest increased intensity due to carbohydrate breakdown for energy.\n",
    "- **Sources:** \n",
    "    - Research studies on exercise physiology extensively measuring blood lactate levels pre- and post-exercise interventions, providing insights into metabolic responses during high-intensity workouts.\n",
    "    - Laboratory analysis utilizing blood samples collected immediately after high-intensity workouts to measure blood lactate concentration and its variations.\n",
    "- **Ranges:**\n",
    "    - Normal resting blood lactate: Typically up to 2.0 millimoles per liter (mmol/L), indicating baseline levels, less than 4 in healthy individuals (Foucher and Tubben, 2022).\n",
    "    - During intense exercise: Blood lactate levels may elevate substantially, reaching 15-25 mmol/L, correlating with increased exertion and exercise duration (Goodwin et al., 2007).\n",
    "\n",
    "***Heart Rate:***\n",
    "- **Description:** \n",
    "    - Continuous variable measuring physiological response during workouts, reflecting intensity and exertion level.\n",
    "- **Significance:**\n",
    "    -  Directly correlates with workout intensity, aiding in monitoring exertion levels and metabolic demand.\n",
    "- **Sources:** \n",
    "    - Fitness trackers equipped with heart rate monitoring functionalities.\n",
    "    - Research studies involving monitored heart rates during various exercise intensities.\n",
    "    - For this project, range from moderate to high from (American Heart Association, 2021).\n",
    "    - Fitness guidelines, such as those from Mayo Clinic and CDC, suggesting target heart rate zones for different fitness levels and age groups (Mayo Clinic, 2021; CDC, 2019).\n",
    "- **Ranges:** \n",
    "    - Moderate workouts: Target heart rate zone of 50-70% of maximum heart rate, ideal for improving cardiovascular health (Mayo Clinic, 2021).\n",
    "    - High-intensity exercises: Target heart rate zone of 70-85% of maximum heart rate, promoting enhanced fitness and calorie burn (Mayo Clinic, 2021).\n",
    "    - Formula for estimated maximum heart rate: 220 - age, providing a baseline for individualized heart rate zones (CDC, 2019).\n",
    "\n",
    "***Subjective Difficulty Level:***\n",
    "- **Description:** \n",
    "    - Ordinal variable expressing perceived difficulty during workouts, offering qualitative insights.\n",
    "- **Significance:** \n",
    "    - Helps in adjusting workouts to match individual capabilities, enhancing adherence, motivation, and preventing overexertion, both psychological and physiological.\n",
    "- **Sources:** \n",
    "    - Self-reported difficulty ratings from participants engaged in various workout routines.\n",
    "    - Borg's Rating of Perceived Exertion (RPE) CR10 scale, an established tool used to assess subjective difficulty levels during exercise (Borg, 1998).\n",
    "- **Ranges:** \n",
    "    - Low difficulty: RPE scale rating of 0-2, representing minimal to slight perceived exertion (Borg, 1998).\n",
    "    - Moderate difficulty: RPE scale rating of 2-5, indicating moderate to severe perceived exertion levels (Borg, 1998).\n",
    "    - High difficulty: RPE scale rating of 6-10, suggesting severe to maximal perceived exertion during workouts (Borg, 1998)\n",
    "\n",
    "***Caloric expenditure:***\n",
    "- **Description:** \n",
    "    - A continuous variable that measures the amount of energy expended during a workout. \n",
    "- **Significance:** \n",
    "    - Essential for estimation of energy utilization; can be estimated using various methods, such as measuring the amount of oxygen consumed or the amount of heat produced by the body. \n",
    "- **Sources:**\n",
    "    - Estimations using fitness devices or apps capable of calculating energy expenditure.\n",
    "    - Metabolic equivalent of task (MET) tables providing estimated calorie burn for various activities (Ainsworth et al., 1993).\n",
    "- **Ranges:** \n",
    "    - The range of caloric expenditure for a high-intensity workout can vary depending on factors such as the individual's weight, fitness level, and the specific exercise being performed (National Research Council (US) Committee On Diet And Health, 1992). As such, for the purpose of this analysis, it will be considering an average individual of 70 kg, not taking into account prior exercise experience, habits, or other considerations."
   ]
  },
  {
   "cell_type": "markdown",
   "metadata": {},
   "source": [
    "---\n",
    "## **Simulation Steps & Design**\n",
    "---"
   ]
  },
  {
   "cell_type": "markdown",
   "metadata": {},
   "source": [
    "### Objectives"
   ]
  },
  {
   "cell_type": "markdown",
   "metadata": {},
   "source": [
    "The primary aim of this simulation model is to replicate and explore the dynamic interrelationships between blood lactate concentration, heart rate, subjective difficulty level, and caloric expenditure within the realm of functional fitness activities. The specific objectives include:"
   ]
  },
  {
   "cell_type": "markdown",
   "metadata": {},
   "source": [
    "1. Understanding Physiological Responses:\n",
    "To simulate the variations and correlations between blood lactate concentration and heart rate in response to different levels of workout intensity and duration.\n",
    "To analyse how changes in blood lactate concentration and heart rate impact the perceived subjective difficulty level during exercise routines.\n",
    "\n",
    "2. Modeling Energy Utilization and Expenditure:\n",
    "To simulate caloric expenditure based on the relationships between heart rate, perceived difficulty levels, and metabolic responses during workouts.\n",
    "To explore the relationship between heart rate variability and the variations in caloric expenditure across different exercise intensities and durations.\n",
    "\n",
    "3. Validation and Insights:\n",
    "To validate the simulation model against empirical data or established findings from the literature to ensure its accuracy in replicating real-world scenarios.\n",
    "To derive insights into the complex interactions among these variables and their implications for optimizing functional fitness routines."
   ]
  },
  {
   "cell_type": "markdown",
   "metadata": {},
   "source": [
    "### Simulation model description:"
   ]
  },
  {
   "cell_type": "markdown",
   "metadata": {},
   "source": [
    "Type of Simulation Model:\n",
    "- The simulation model is a computational framework leveraging programmed algorithms and statistical computations to simulate the dynamic interactions between the identified variables. It incorporates mathematical equations representing the relationships among the variables to emulate their behavior during functional fitness activities.\n",
    "\n",
    "Model Structure and Representation of Interactions:\n",
    "- Implemented using Python programming language, the simulation model utilizes key data science libraries such as `Pandas`, `NumPy`, `Matplotlib`, and `Seaborn`.\n",
    "- `Pandas` and `NumPy` are used for efficient data manipulation, managing synthetic data generation, and processing simulated variables.\n",
    "- `Matplotlib` and `Seaborn` are employed for data visualization, aiding in the graphical representation of simulated relationships between variables and providing visual insights.\n",
    "\n",
    "By utilizing `Pandas` and `NumPy` for data handling and computation and leveraging `Matplotlib` and `Seaborn` for visualization, the computational model can efficiently simulate, analyse, and visually represent the complex interactions between the variables of interest within the domain of functional fitness. This approach enables a comprehensive exploration and understanding of the dynamic relationships among these variables during simulated exercise scenarios."
   ]
  },
  {
   "cell_type": "markdown",
   "metadata": {},
   "source": [
    "### Variables and Relationships"
   ]
  },
  {
   "cell_type": "markdown",
   "metadata": {},
   "source": [
    "**Blood Lactate Concentration (BLC):**\n",
    "- BLC represents the concentration of lactate in the bloodstream during exercise.\n",
    "- **Relationships:** BLC is influenced by exercise intensity and duration, positively correlating with higher exertion levels.\n",
    "\n",
    "**Heart Rate (HR):**\n",
    "- HR denotes the number of heartbeats per minute during physical activity.\n",
    "- **Relationships:** HR typically increases with higher exercise intensity, showcasing a positive correlation with the intensity of functional fitness workouts.\n",
    "\n",
    "**Subjective Difficulty Level (SDL):**\n",
    "- SDL reflects the perceived difficulty or exertion levels during exercise.\n",
    "- **Relationships:** SDL may correlate with both BLAC and HR, demonstrating a subjective assessment of exertion during workouts.\n",
    "\n",
    "**Caloric Expenditure (CE):**\n",
    "- CE represents the energy expended during physical activity, typically measured in calories.\n",
    "- **Relationships:** CE is influenced by HR, exercise intensity, and duration, showing a positive correlation with higher exertion levels and intensity."
   ]
  },
  {
   "cell_type": "markdown",
   "metadata": {},
   "source": [
    "### Assumptions and Constraints"
   ]
  },
  {
   "cell_type": "markdown",
   "metadata": {},
   "source": [
    "Assumptions:\n",
    "- Homogeneity of Responses: The simulation assumes a level of uniformity in physiological responses to exercise stimuli within the modeled population. Individual variations in responses are generalized for simulation purposes.\n",
    "- Linear Relationships: The assumed relationships between variables (BLC, HR, SDL, CE) are modeled as linear or straightforward correlations, which might not capture intricate nonlinear relationships observed in all scenarios.\n",
    "- Constant Metabolic State: The simulation assumes a consistent metabolic state across the duration of simulated exercise, disregarding potential fluctuations in metabolism during prolonged workouts, eg over 60 minutes (Institute Of Medicine (U.S.). Committee On Military Nutrition Research, 1994).\n",
    "\n",
    "Constraints:\n",
    "- Limited External Factors: The simulation does not account for external factors like environmental conditions, pre-existing health conditions, or individual fitness levels, which might significantly influence the modeled variables (National Academies of Sciences, Engineering, and Medicine, 2023).\n",
    "- Data Accuracy: The accuracy of the simulated results heavily relies on the accuracy and reliability of the input parameters and relationships derived from existing empirical data or assumed from literature.\n",
    "- Technical Constraints:\n",
    "    - Computational Resources: The complexity and scale of the simulation might pose computational resource constraints, limiting the size and scope of the simulated scenarios.\n",
    "    - Model Validity: Due to the simplified nature of the model, there might be limitations in accurately capturing the multifaceted nature of physiological responses during diverse functional fitness routines."
   ]
  },
  {
   "cell_type": "markdown",
   "metadata": {},
   "source": [
    "---\n",
    "## **Implementation of Simulation**\n",
    "---"
   ]
  },
  {
   "cell_type": "markdown",
   "metadata": {},
   "source": [
    "---\n",
    "### Primary data"
   ]
  },
  {
   "cell_type": "markdown",
   "metadata": {},
   "source": [
    "---\n",
    "#### Synthetic data for resting and exercise lactate levels:"
   ]
  },
  {
   "cell_type": "markdown",
   "metadata": {},
   "source": [
    "It must be considered, as mentioned prior, than resting blood lactate should not exceed 4.0 mmol/L, as mentioned in (Foucher and Tubben, 2022)."
   ]
  },
  {
   "cell_type": "code",
   "execution_count": null,
   "metadata": {},
   "outputs": [],
   "source": [
    "resting_levels = np.random.normal(loc=1.0, scale=0.5, size=250)\n",
    "exercise_levels = np.random.normal(loc=2.0, scale=1.0, size=250) + 12 # shifts the start to 12, and values will predominantly start at 14.0\n",
    "resting_levels = np.clip(resting_levels, 0.1, 4.0)  # Clip values below 0 to 0 and above 4 to 4\n",
    "exercise_levels = np.clip(exercise_levels, 5.0, 25.0)  # Limiting the maximum value to 25 mmol/L\n",
    "\n",
    "blc =  exercise_levels"
   ]
  },
  {
   "cell_type": "code",
   "execution_count": null,
   "metadata": {},
   "outputs": [],
   "source": [
    "plt.figure(figsize=(10, 5))\n",
    "\n",
    "plt.subplot(1, 2, 1)\n",
    "plt.hist(resting_levels, bins=30, alpha=0.7, color='blue')\n",
    "plt.xlabel('Resting Blood Lactate Concentration (mmol/L)')\n",
    "plt.ylabel('Frequency')\n",
    "plt.title('Synthetic Data Distribution for Resting Levels')\n",
    "\n",
    "plt.subplot(1, 2, 2)\n",
    "plt.hist(exercise_levels, bins=30, alpha=0.7, color='orange')\n",
    "plt.xlabel('Exercise-Induced Blood Lactate Concentration (mmol/L)')\n",
    "plt.ylabel('Frequency')\n",
    "plt.title('Synthetic Data Distribution for Exercise Levels')\n",
    "\n",
    "plt.tight_layout()"
   ]
  },
  {
   "cell_type": "code",
   "execution_count": null,
   "metadata": {},
   "outputs": [],
   "source": [
    "plt.figure(figsize=(5, 5))\n",
    "plt.hist(exercise_levels, bins=30, alpha=0.7, color='orange')\n",
    "plt.xlabel('Exercise-Induced Blood Lactate Concentration (mmol/L)')\n",
    "plt.ylabel('Frequency')\n",
    "plt.title('Synthetic Data Distribution for Exercise Levels')"
   ]
  },
  {
   "cell_type": "markdown",
   "metadata": {},
   "source": [
    "---\n",
    "#### Synthetic heart rate data:"
   ]
  },
  {
   "cell_type": "code",
   "execution_count": null,
   "metadata": {},
   "outputs": [],
   "source": [
    "mean_hr = 142 #from the source, average of 70-85% effort\n",
    "std_dev_hr = 10\n",
    "num_samples = 250  # Number of data points to generate\n",
    "\n",
    "# Creating synthetic heart rate data\n",
    "hr = np.random.normal(mean_hr, std_dev_hr, num_samples)"
   ]
  },
  {
   "cell_type": "code",
   "execution_count": null,
   "metadata": {},
   "outputs": [],
   "source": [
    "plt.figure(figsize=(5, 5))\n",
    "plt.hist(hr, bins=30, alpha=0.7)\n",
    "plt.xlabel('Heart Rate')\n",
    "plt.ylabel('Frequency')\n",
    "plt.title('Synthetic Heart Rate Data Distribution')"
   ]
  },
  {
   "cell_type": "markdown",
   "metadata": {},
   "source": [
    "---\n",
    "#### Synthetic data for subjective difficulty level:"
   ]
  },
  {
   "cell_type": "code",
   "execution_count": null,
   "metadata": {},
   "outputs": [],
   "source": [
    "num_samples = 250  # Number of data points to generate\n",
    "sdl = np.random.normal(142, 20, num_samples)\n",
    "\n",
    "# Dividing heart rate data into CR10 scaling categories\n",
    "# Define bins based on the CR10 scale (e.g., low, moderate, high)\n",
    "bins = [50, 90, 120, 150, 190]\n",
    "labels = ['Low (SDL: 0-2/HR: 50-90)', 'Moderate (SDL: 2-4/HR: 90-120)', 'High (SDL: 5-7/ HR: 120-150)', 'Extreme (SDL: 8-10/ HR: 150-190)']\n",
    "\n",
    "# Categorizing heart rate data into CR10 scale categories\n",
    "categories = pd.cut(sdl, bins=bins, labels=labels)"
   ]
  },
  {
   "cell_type": "code",
   "execution_count": null,
   "metadata": {},
   "outputs": [],
   "source": [
    "# Plotting the count of different subjective difficulty levels with heart rate categories\n",
    "plt.figure(figsize=(5, 5))\n",
    "sns.countplot(x=categories, order=labels, palette='viridis')\n",
    "plt.xlabel('Heart Rate Categories (Mapped to CR10 Scale)')\n",
    "plt.ylabel('Frequency')\n",
    "plt.title('Synthetic Subjective Difficulty Mapped to CR10 Scale')\n",
    "\n",
    "plt.xticks(rotation=45)  # Rotate x-axis labels for better readability\n",
    "# plt.tight_layout()"
   ]
  },
  {
   "cell_type": "markdown",
   "metadata": {},
   "source": [
    "---\n",
    "#### Synthetic data for caloric expenditure:"
   ]
  },
  {
   "cell_type": "markdown",
   "metadata": {},
   "source": [
    "In this section, we are going to use MET (metabolic equivalent of task) to estimate an mean value for caloric expenditure. This will use the MET value of 8.0 for circuit training at a vigorous intensity according to (Ainsworth et al., 1993), and take an average individual of 70 kilograms working out for 1 hour."
   ]
  },
  {
   "cell_type": "code",
   "execution_count": null,
   "metadata": {},
   "outputs": [],
   "source": [
    "def met_to_calories(met_value, body_weight_kg, time_hours):\n",
    "    calories_burned = met_value * body_weight_kg * time_hours\n",
    "    return calories_burned\n",
    "\n",
    "met_value = 8\n",
    "body_weight_kg = 70\n",
    "time_hours = 1\n",
    "\n",
    "calories = met_to_calories(met_value, body_weight_kg, time_hours)\n",
    "print(f\"Calories burned: {calories:.2f} kcal\")"
   ]
  },
  {
   "cell_type": "markdown",
   "metadata": {},
   "source": [
    "We are going to use this value as the mean caloric expenditure, which is measure in kilocalories (kcal)."
   ]
  },
  {
   "cell_type": "code",
   "execution_count": null,
   "metadata": {},
   "outputs": [],
   "source": [
    "mean_calories = calories\n",
    "std_dev_calories = 50\n",
    "num_samples = 250\n",
    "\n",
    "# Generating synthetic data for caloric expenditure using a normal distribution\n",
    "ce = np.random.normal(loc=mean_calories, scale=std_dev_calories, size=num_samples)\n",
    "\n",
    "# Visualizing the distribution of caloric expenditure\n",
    "plt.figure(figsize=(5, 5))\n",
    "plt.hist(ce, bins=30, alpha=0.7, color='green')\n",
    "plt.xlabel('Caloric Expenditure (kilocalories)')\n",
    "plt.ylabel('Frequency')\n",
    "plt.title('Synthetic Data Distribution for Caloric Expenditure')\n",
    "plt.grid(True)"
   ]
  },
  {
   "cell_type": "markdown",
   "metadata": {},
   "source": [
    "---\n",
    "### Relationships"
   ]
  },
  {
   "cell_type": "markdown",
   "metadata": {},
   "source": [
    "- **BLC vs. HR:** There might exist a positive correlation between blood lactate concentration and heart rate during exercise. As exercise intensity increases, heart rate tends to elevate (Better Health Channel, 2012), indicating a potential link between elevated heart rate and higher blood lactate levels due to increased metabolic demands.\n",
    "  \n",
    "- **BLC and SDL:** Higher blood lactate levels might correspond to a higher perceived difficulty level during workouts. Elevated blood lactate concentration could signify increased physiological stress (Goodwin et al., 2007) , potentially resulting in a subjective sense of higher exertion.\n",
    "  \n",
    "- **BLC and CE:** Blood lactate concentration may positively relate to caloric expenditure. Higher blood lactate levels, indicating increased metabolic activity and energy demand, might coincide with higher caloric expenditure during intense workouts.\n",
    "\n",
    "- **HR and SDL:** Heart rate might be positively associated with the subjective difficulty level during exercise. Higher heart rates, often correlated with elevated exercise intensity(CDC, 2019), could lead to a perceived sense of higher exertion.\n",
    "\n",
    "- **CE vs. HR:** There could be a positive correlation between heart rate and caloric expenditure. Elevated heart rates, reflective of increased physiological effort during exercise, might correspond to higher energy expenditure, albeit via a possibly indirect relationship.\n",
    "\n",
    "- **SDL and CE:** Subjective difficulty levels might influence caloric expenditure. Workouts perceived as more difficult may result in increased caloric expenditure due to potentially higher physiological stress and increased effort.\n",
    "\n"
   ]
  },
  {
   "cell_type": "code",
   "execution_count": null,
   "metadata": {},
   "outputs": [],
   "source": [
    "plt.figure(figsize=(10, 5))\n",
    "plt.scatter(hr, ce, color='blue', alpha=0.5)\n",
    "plt.xlabel('Heart Rate')\n",
    "plt.ylabel('Caloric Expenditure (kilocalories)')\n",
    "plt.title('Scatter Plot: Heart Rate vs Caloric Expenditure')\n",
    "plt.grid(True)"
   ]
  },
  {
   "cell_type": "markdown",
   "metadata": {},
   "source": [
    "---\n",
    "## **Analysis and Insights**\n",
    "---"
   ]
  },
  {
   "cell_type": "markdown",
   "metadata": {},
   "source": [
    "Using the above code, I have generated and saved some files to the \"favourable output\" folder. "
   ]
  },
  {
   "cell_type": "markdown",
   "metadata": {},
   "source": [
    "![Image1](./favourableoutputs/blc.png) ![Image 2](./favourableoutputs/hr.png)\n",
    "![Image 3](./favourableoutputs/sdl.png) ![Image 4](./favourableoutputs/ce.png)"
   ]
  },
  {
   "cell_type": "markdown",
   "metadata": {},
   "source": [
    "- **Blood lactate concentration and heart rate:** The simulated data showcases a potential positive correlation between blood lactate concentration and heart rate during exercise. As the intensity of exercise increases, there seems to be a corresponding elevation in heart rate, suggesting a plausible relationship between heightened heart rate and increased blood lactate levels due to greater metabolic demands.\n",
    "\n",
    "- **Blood lactate concentration and subjective difficulty level:** The data suggests that higher blood lactate levels might correspond to a perceived higher difficulty level during workouts. Elevated blood lactate concentration appears to coincide with a subjective sense of increased exertion, indicating a potential link between physiological stress, reflected by higher blood lactate, and the perceived difficulty level.\n",
    "\n",
    "- **Blood lactate concentration and caloric expenditure:** The simulated data shows a potential positive relationship between blood lactate concentration and caloric expenditure. Higher blood lactate levels, indicative of greater metabolic activity and energy demand, seem to align with increased caloric expenditure during intense exercise.\n",
    "\n",
    "- **Heart rate and subjective difficulty level:** There appears to be a trend showcasing a potential positive association between heart rate and the subjective difficulty level during exercise. Elevated heart rates, often correlated with heightened exercise intensity, seem to correspond with a perceived sense of higher exertion, reflecting a possible relationship between increased heart rate and perceived difficulty.\n",
    "\n",
    "- **Heart rate and caloric expenditure:** The data suggests a potential positive correlation between heart rate and caloric expenditure. Elevated heart rates, indicative of increased physiological effort during exercise, appear to align with higher energy expenditure.\n",
    "\n",
    "- **Subjective difficulty level and caloric expenditure:** The simulated data implies that subjective difficulty levels might influence caloric expenditure. Workouts perceived as more difficult seem to potentially lead to increased caloric expenditure, possibly due to higher physiological stress and increased effort.\n"
   ]
  },
  {
   "cell_type": "markdown",
   "metadata": {},
   "source": []
  },
  {
   "cell_type": "markdown",
   "metadata": {},
   "source": [
    "---\n",
    "## **Conclusions**\n",
    "---"
   ]
  },
  {
   "cell_type": "markdown",
   "metadata": {},
   "source": [
    "\n",
    "This project embarked on an intricate exploration into the dynamics of high-intensity functional fitness by modeling and analyzing crucial variables encompassing blood lactate concentration, heart rate, subjective difficulty levels, and caloric expenditure. These variables, deeply interrelated and reflective of various physiological responses during workouts, were meticulously simulated to unravel potential associations and implications within the functional fitness domain."
   ]
  },
  {
   "cell_type": "markdown",
   "metadata": {
    "vscode": {
     "languageId": "plaintext"
    }
   },
   "source": [
    "---\n",
    "## **References**\n",
    "---"
   ]
  },
  {
   "cell_type": "markdown",
   "metadata": {},
   "source": []
  },
  {
   "cell_type": "markdown",
   "metadata": {},
   "source": [
    "---\n",
    "# End"
   ]
  }
 ],
 "metadata": {
  "kernelspec": {
   "display_name": "Python 3",
   "language": "python",
   "name": "python3"
  },
  "language_info": {
   "codemirror_mode": {
    "name": "ipython",
    "version": 3
   },
   "file_extension": ".py",
   "mimetype": "text/x-python",
   "name": "python",
   "nbconvert_exporter": "python",
   "pygments_lexer": "ipython3",
   "version": "3.11.5"
  }
 },
 "nbformat": 4,
 "nbformat_minor": 2
}
